{
 "cells": [
  {
   "cell_type": "code",
   "execution_count": 1,
   "id": "410f6c41-e6de-48df-a478-de1e5f0d5dfd",
   "metadata": {},
   "outputs": [
    {
     "name": "stderr",
     "output_type": "stream",
     "text": [
      "C:\\Users\\ymona\\anaconda3\\envs\\nlp_env\\lib\\site-packages\\tqdm\\auto.py:21: TqdmWarning: IProgress not found. Please update jupyter and ipywidgets. See https://ipywidgets.readthedocs.io/en/stable/user_install.html\n",
      "  from .autonotebook import tqdm as notebook_tqdm\n"
     ]
    }
   ],
   "source": [
    "# Imports \n",
    "import os\n",
    "import re, string\n",
    "import numpy as np\n",
    "import pandas as pd\n",
    "import matplotlib.pyplot as plt\n",
    "import spacy\n",
    "from tqdm.auto import tqdm\n",
    "from sklearn.model_selection import train_test_split\n",
    "from sklearn.metrics import f1_score\n",
    "from sklearn.neural_network import MLPClassifier\n",
    "from tqdm.auto import tqdm\n",
    "tqdm.pandas()\n",
    "from sklearn.metrics import confusion_matrix, classification_report\n",
    "from tensorflow import keras\n",
    "from tensorflow.keras import layers\n",
    "from tensorflow.keras.preprocessing.text import Tokenizer\n",
    "from tensorflow.keras.preprocessing.sequence import pad_sequences\n",
    "\n",
    "# configuration \n",
    "SEED        = 42        \n",
    "SUB_FRAC    = 0.05      # work on 5 % of the merged dataset\n",
    "MAX_WORDS   = 10_000    # vocab size for Keras Tokenizer\n",
    "EMBED_DIM   = 64        # embedding dimension for LSTM\n",
    "BATCH_SIZE  = 128       # per‑epoch batch size\n",
    "EPOCHS      = 10        # upper epoch bound \n",
    "PATIENCE    = 2         # early‑stopping patience\n",
    "\n",
    "np.random.seed(SEED)\n",
    "keras.utils.set_random_seed(SEED)\n"
   ]
  },
  {
   "cell_type": "code",
   "execution_count": 2,
   "id": "5bf156fb-f539-46da-9e3d-e126c9cd2e9a",
   "metadata": {},
   "outputs": [
    {
     "data": {
      "text/plain": [
       "(3000000, 19)"
      ]
     },
     "execution_count": 2,
     "metadata": {},
     "output_type": "execute_result"
    }
   ],
   "source": [
    "# Load & Merge Data\n",
    "books_data   = pd.read_csv(\"books_data.csv\")\n",
    "books_rating = pd.read_csv(\"books_rating.csv\")\n",
    "\n",
    "df = pd.merge(books_rating, books_data, on=\"Title\", how=\"inner\")\n",
    "df.shape"
   ]
  },
  {
   "cell_type": "code",
   "execution_count": 3,
   "id": "2e2bc93d-62b7-41b1-ada4-54466f8f355e",
   "metadata": {},
   "outputs": [
    {
     "data": {
      "text/html": [
       "<div>\n",
       "<style scoped>\n",
       "    .dataframe tbody tr th:only-of-type {\n",
       "        vertical-align: middle;\n",
       "    }\n",
       "\n",
       "    .dataframe tbody tr th {\n",
       "        vertical-align: top;\n",
       "    }\n",
       "\n",
       "    .dataframe thead th {\n",
       "        text-align: right;\n",
       "    }\n",
       "</style>\n",
       "<table border=\"1\" class=\"dataframe\">\n",
       "  <thead>\n",
       "    <tr style=\"text-align: right;\">\n",
       "      <th></th>\n",
       "      <th>Id</th>\n",
       "      <th>Title</th>\n",
       "      <th>Price</th>\n",
       "      <th>User_id</th>\n",
       "      <th>profileName</th>\n",
       "      <th>review/helpfulness</th>\n",
       "      <th>review/score</th>\n",
       "      <th>review/time</th>\n",
       "      <th>review/summary</th>\n",
       "      <th>review/text</th>\n",
       "      <th>description</th>\n",
       "      <th>authors</th>\n",
       "      <th>image</th>\n",
       "      <th>previewLink</th>\n",
       "      <th>publisher</th>\n",
       "      <th>publishedDate</th>\n",
       "      <th>infoLink</th>\n",
       "      <th>categories</th>\n",
       "      <th>ratingsCount</th>\n",
       "    </tr>\n",
       "  </thead>\n",
       "  <tbody>\n",
       "    <tr>\n",
       "      <th>0</th>\n",
       "      <td>1882931173</td>\n",
       "      <td>Its Only Art If Its Well Hung!</td>\n",
       "      <td>NaN</td>\n",
       "      <td>AVCGYZL8FQQTD</td>\n",
       "      <td>Jim of Oz \"jim-of-oz\"</td>\n",
       "      <td>7/7</td>\n",
       "      <td>4.0</td>\n",
       "      <td>940636800</td>\n",
       "      <td>Nice collection of Julie Strain images</td>\n",
       "      <td>This is only for Julie Strain fans. It's a col...</td>\n",
       "      <td>NaN</td>\n",
       "      <td>['Julie Strain']</td>\n",
       "      <td>http://books.google.com/books/content?id=DykPA...</td>\n",
       "      <td>http://books.google.nl/books?id=DykPAAAACAAJ&amp;d...</td>\n",
       "      <td>NaN</td>\n",
       "      <td>1996</td>\n",
       "      <td>http://books.google.nl/books?id=DykPAAAACAAJ&amp;d...</td>\n",
       "      <td>['Comics &amp; Graphic Novels']</td>\n",
       "      <td>NaN</td>\n",
       "    </tr>\n",
       "    <tr>\n",
       "      <th>1</th>\n",
       "      <td>0826414346</td>\n",
       "      <td>Dr. Seuss: American Icon</td>\n",
       "      <td>NaN</td>\n",
       "      <td>A30TK6U7DNS82R</td>\n",
       "      <td>Kevin Killian</td>\n",
       "      <td>10/10</td>\n",
       "      <td>5.0</td>\n",
       "      <td>1095724800</td>\n",
       "      <td>Really Enjoyed It</td>\n",
       "      <td>I don't care much for Dr. Seuss but after read...</td>\n",
       "      <td>Philip Nel takes a fascinating look into the k...</td>\n",
       "      <td>['Philip Nel']</td>\n",
       "      <td>http://books.google.com/books/content?id=IjvHQ...</td>\n",
       "      <td>http://books.google.nl/books?id=IjvHQsCn_pgC&amp;p...</td>\n",
       "      <td>A&amp;C Black</td>\n",
       "      <td>2005-01-01</td>\n",
       "      <td>http://books.google.nl/books?id=IjvHQsCn_pgC&amp;d...</td>\n",
       "      <td>['Biography &amp; Autobiography']</td>\n",
       "      <td>NaN</td>\n",
       "    </tr>\n",
       "    <tr>\n",
       "      <th>2</th>\n",
       "      <td>0826414346</td>\n",
       "      <td>Dr. Seuss: American Icon</td>\n",
       "      <td>NaN</td>\n",
       "      <td>A3UH4UZ4RSVO82</td>\n",
       "      <td>John Granger</td>\n",
       "      <td>10/11</td>\n",
       "      <td>5.0</td>\n",
       "      <td>1078790400</td>\n",
       "      <td>Essential for every personal and Public Library</td>\n",
       "      <td>If people become the books they read and if \"t...</td>\n",
       "      <td>Philip Nel takes a fascinating look into the k...</td>\n",
       "      <td>['Philip Nel']</td>\n",
       "      <td>http://books.google.com/books/content?id=IjvHQ...</td>\n",
       "      <td>http://books.google.nl/books?id=IjvHQsCn_pgC&amp;p...</td>\n",
       "      <td>A&amp;C Black</td>\n",
       "      <td>2005-01-01</td>\n",
       "      <td>http://books.google.nl/books?id=IjvHQsCn_pgC&amp;d...</td>\n",
       "      <td>['Biography &amp; Autobiography']</td>\n",
       "      <td>NaN</td>\n",
       "    </tr>\n",
       "  </tbody>\n",
       "</table>\n",
       "</div>"
      ],
      "text/plain": [
       "           Id                           Title  Price         User_id  \\\n",
       "0  1882931173  Its Only Art If Its Well Hung!    NaN   AVCGYZL8FQQTD   \n",
       "1  0826414346        Dr. Seuss: American Icon    NaN  A30TK6U7DNS82R   \n",
       "2  0826414346        Dr. Seuss: American Icon    NaN  A3UH4UZ4RSVO82   \n",
       "\n",
       "             profileName review/helpfulness  review/score  review/time  \\\n",
       "0  Jim of Oz \"jim-of-oz\"                7/7           4.0    940636800   \n",
       "1          Kevin Killian              10/10           5.0   1095724800   \n",
       "2           John Granger              10/11           5.0   1078790400   \n",
       "\n",
       "                                    review/summary  \\\n",
       "0           Nice collection of Julie Strain images   \n",
       "1                                Really Enjoyed It   \n",
       "2  Essential for every personal and Public Library   \n",
       "\n",
       "                                         review/text  \\\n",
       "0  This is only for Julie Strain fans. It's a col...   \n",
       "1  I don't care much for Dr. Seuss but after read...   \n",
       "2  If people become the books they read and if \"t...   \n",
       "\n",
       "                                         description           authors  \\\n",
       "0                                                NaN  ['Julie Strain']   \n",
       "1  Philip Nel takes a fascinating look into the k...    ['Philip Nel']   \n",
       "2  Philip Nel takes a fascinating look into the k...    ['Philip Nel']   \n",
       "\n",
       "                                               image  \\\n",
       "0  http://books.google.com/books/content?id=DykPA...   \n",
       "1  http://books.google.com/books/content?id=IjvHQ...   \n",
       "2  http://books.google.com/books/content?id=IjvHQ...   \n",
       "\n",
       "                                         previewLink  publisher publishedDate  \\\n",
       "0  http://books.google.nl/books?id=DykPAAAACAAJ&d...        NaN          1996   \n",
       "1  http://books.google.nl/books?id=IjvHQsCn_pgC&p...  A&C Black    2005-01-01   \n",
       "2  http://books.google.nl/books?id=IjvHQsCn_pgC&p...  A&C Black    2005-01-01   \n",
       "\n",
       "                                            infoLink  \\\n",
       "0  http://books.google.nl/books?id=DykPAAAACAAJ&d...   \n",
       "1  http://books.google.nl/books?id=IjvHQsCn_pgC&d...   \n",
       "2  http://books.google.nl/books?id=IjvHQsCn_pgC&d...   \n",
       "\n",
       "                      categories  ratingsCount  \n",
       "0    ['Comics & Graphic Novels']           NaN  \n",
       "1  ['Biography & Autobiography']           NaN  \n",
       "2  ['Biography & Autobiography']           NaN  "
      ]
     },
     "execution_count": 3,
     "metadata": {},
     "output_type": "execute_result"
    }
   ],
   "source": [
    "df.head(3)"
   ]
  },
  {
   "cell_type": "code",
   "execution_count": 4,
   "id": "9b4fa430-0bd7-494e-a4bf-e0039f21fe45",
   "metadata": {},
   "outputs": [
    {
     "name": "stdout",
     "output_type": "stream",
     "text": [
      "<class 'pandas.core.frame.DataFrame'>\n",
      "RangeIndex: 3000000 entries, 0 to 2999999\n",
      "Data columns (total 19 columns):\n",
      " #   Column              Dtype  \n",
      "---  ------              -----  \n",
      " 0   Id                  object \n",
      " 1   Title               object \n",
      " 2   Price               float64\n",
      " 3   User_id             object \n",
      " 4   profileName         object \n",
      " 5   review/helpfulness  object \n",
      " 6   review/score        float64\n",
      " 7   review/time         int64  \n",
      " 8   review/summary      object \n",
      " 9   review/text         object \n",
      " 10  description         object \n",
      " 11  authors             object \n",
      " 12  image               object \n",
      " 13  previewLink         object \n",
      " 14  publisher           object \n",
      " 15  publishedDate       object \n",
      " 16  infoLink            object \n",
      " 17  categories          object \n",
      " 18  ratingsCount        float64\n",
      "dtypes: float64(3), int64(1), object(15)\n",
      "memory usage: 434.9+ MB\n"
     ]
    }
   ],
   "source": [
    "df.info()"
   ]
  },
  {
   "cell_type": "code",
   "execution_count": 5,
   "id": "806b50c0-5c62-4522-ae04-91a949331e9c",
   "metadata": {},
   "outputs": [
    {
     "name": "stdout",
     "output_type": "stream",
     "text": [
      "Total dataset size on disk: 2.83 GB\n"
     ]
    }
   ],
   "source": [
    "# Total dataset size on disk (GB) \n",
    "file_paths = [\"books_rating.csv\", \"books_data.csv\"]  \n",
    "total_size_bytes = sum(os.path.getsize(fp) for fp in file_paths)\n",
    "total_size_gb = total_size_bytes / (1024 ** 3)\n",
    "print(f\"Total dataset size on disk: {total_size_gb:.2f} GB\")\n"
   ]
  },
  {
   "cell_type": "code",
   "execution_count": 6,
   "id": "edffbfe9-c804-4348-872b-56f944edc0f6",
   "metadata": {},
   "outputs": [
    {
     "name": "stdout",
     "output_type": "stream",
     "text": [
      "Total dataset size on disk: 2.83 GB\n"
     ]
    }
   ],
   "source": [
    "# List the names of CSV files\n",
    "file1 = \"books_rating.csv\"\n",
    "file2 = \"books_data.csv\"\n",
    "\n",
    "# Get the file sizes in bytes and add them up\n",
    "size1 = os.path.getsize(file1)\n",
    "size2 = os.path.getsize(file2)\n",
    "total_bytes = size1 + size2\n",
    "\n",
    "# Convert bytes to gigabytes (1 GB = 1024^3 bytes)\n",
    "total_gb = total_bytes / (1024 ** 3)\n",
    "\n",
    "# Show the result\n",
    "print(f\"Total dataset size on disk: {total_gb:.2f} GB\")"
   ]
  },
  {
   "cell_type": "code",
   "execution_count": 7,
   "id": "58d020f5-1b01-449f-b0a2-944401956927",
   "metadata": {},
   "outputs": [],
   "source": [
    "# Convert timestamp to datetime \n",
    "df[\"review/time\"] = pd.to_datetime(df[\"review/time\"], unit=\"s\", errors=\"coerce\")\n",
    "# unit=\"s\" means the numbers are Unix timestamps in seconds\n",
    "# errors=\"coerce\"  turns invalid values into NaT so the code keeps running."
   ]
  },
  {
   "cell_type": "code",
   "execution_count": 8,
   "id": "6b09cbc0-aec0-471c-9c56-a4b4f1e00ef7",
   "metadata": {},
   "outputs": [
    {
     "data": {
      "text/plain": [
       "0         1999-10-23\n",
       "1         2004-09-21\n",
       "2         2004-03-09\n",
       "3         2004-07-25\n",
       "4         2005-02-10\n",
       "             ...    \n",
       "2999995   1999-09-18\n",
       "2999996   2012-03-14\n",
       "2999997   2007-05-27\n",
       "2999998   2006-11-09\n",
       "2999999   1998-09-10\n",
       "Name: review/time, Length: 3000000, dtype: datetime64[ns]"
      ]
     },
     "execution_count": 8,
     "metadata": {},
     "output_type": "execute_result"
    }
   ],
   "source": [
    "review_times = df[\"review/time\"]\n",
    "review_times"
   ]
  },
  {
   "cell_type": "code",
   "execution_count": 9,
   "id": "d9219beb-4707-48ac-8745-f3dd85138e65",
   "metadata": {},
   "outputs": [],
   "source": [
    "df[\"review_year\"]    = df[\"review/time\"].dt.year.astype(int)\n",
    "df[\"review_month\"]   = df[\"review/time\"].dt.month.astype(int)\n",
    "df[\"review_weekday\"] = df[\"review/time\"].dt.weekday.astype(int)\n"
   ]
  },
  {
   "cell_type": "code",
   "execution_count": 10,
   "id": "74236ab1-716f-43e5-8524-853850e68b3e",
   "metadata": {},
   "outputs": [
    {
     "data": {
      "text/plain": [
       "Timestamp('1969-12-31 23:59:59')"
      ]
     },
     "execution_count": 10,
     "metadata": {},
     "output_type": "execute_result"
    }
   ],
   "source": [
    "earliest = review_times.min()\n",
    "earliest\n"
   ]
  },
  {
   "cell_type": "code",
   "execution_count": 11,
   "id": "3ada25fd-5b5c-494b-be36-5e9710fe8cee",
   "metadata": {},
   "outputs": [
    {
     "data": {
      "text/plain": [
       "Timestamp('2013-03-04 00:00:00')"
      ]
     },
     "execution_count": 11,
     "metadata": {},
     "output_type": "execute_result"
    }
   ],
   "source": [
    "latest = review_times.max()\n",
    "latest\n"
   ]
  },
  {
   "cell_type": "code",
   "execution_count": 12,
   "id": "226843fe-0df3-454a-8ee1-7a1e858fa492",
   "metadata": {},
   "outputs": [
    {
     "data": {
      "text/plain": [
       "(datetime.date(1969, 12, 31), datetime.date(2013, 3, 4))"
      ]
     },
     "execution_count": 12,
     "metadata": {},
     "output_type": "execute_result"
    }
   ],
   "source": [
    "start_date = earliest.date()\n",
    "end_date = latest.date()\n",
    "start_date, end_date\n"
   ]
  },
  {
   "cell_type": "code",
   "execution_count": 13,
   "id": "f0654067-fd21-42e5-8584-b72c7ed1c645",
   "metadata": {},
   "outputs": [
    {
     "name": "stdout",
     "output_type": "stream",
     "text": [
      "  int32: 13.64%\n",
      "  float64: 13.64%\n",
      "  datetime64[ns]: 4.55%\n",
      "  object: 68.18%\n"
     ]
    }
   ],
   "source": [
    "# Percentage of object, float, and int columns\n",
    "\n",
    "dtype_pct = (\n",
    "    df.dtypes.value_counts(normalize=True).sort_index() * 100\n",
    ").round(2)\n",
    "for dtype, pct in dtype_pct.items():\n",
    "    print(f\"  {dtype}: {pct}%\")"
   ]
  },
  {
   "cell_type": "code",
   "execution_count": 14,
   "id": "5e15efe6-c534-451d-a4e5-b022e76e9f87",
   "metadata": {},
   "outputs": [
    {
     "name": "stdout",
     "output_type": "stream",
     "text": [
      "               Price  review/score                    review/time  \\\n",
      "count  481171.000000  3.000000e+06                        3000000   \n",
      "mean       21.762656  4.215289e+00  2005-11-18 09:39:32.630393216   \n",
      "min         1.000000  1.000000e+00            1969-12-31 23:59:59   \n",
      "25%        10.780000  4.000000e+00            2001-09-08 00:00:00   \n",
      "50%        14.930000  5.000000e+00            2005-10-03 00:00:00   \n",
      "75%        23.950000  5.000000e+00            2010-03-21 00:00:00   \n",
      "max       995.000000  5.000000e+00            2013-03-04 00:00:00   \n",
      "std        26.206541  1.203054e+00                            NaN   \n",
      "\n",
      "       ratingsCount   review_year  review_month  review_weekday  \n",
      "count  1.639306e+06  3.000000e+06  3.000000e+06    3.000000e+06  \n",
      "mean   2.720647e+02  2.005400e+03  6.309873e+00    2.849597e+00  \n",
      "min    1.000000e+00  1.969000e+03  1.000000e+00    0.000000e+00  \n",
      "25%    3.000000e+00  2.001000e+03  3.000000e+00    1.000000e+00  \n",
      "50%    1.000000e+01  2.005000e+03  6.000000e+00    3.000000e+00  \n",
      "75%    5.500000e+01  2.010000e+03  1.000000e+01    5.000000e+00  \n",
      "max    4.895000e+03  2.013000e+03  1.200000e+01    6.000000e+00  \n",
      "std    7.887721e+02  4.746627e+00  3.623075e+00    1.984297e+00  \n"
     ]
    }
   ],
   "source": [
    "# Get numeric summary statistics\n",
    "numeric_summary = df.describe()\n",
    "\n",
    "print(numeric_summary)\n"
   ]
  },
  {
   "cell_type": "code",
   "execution_count": 15,
   "id": "37785c77-1a61-4dce-a856-2c86600f624c",
   "metadata": {},
   "outputs": [
    {
     "data": {
      "text/plain": [
       "Id                     0.00\n",
       "Title                  0.01\n",
       "Price                 83.96\n",
       "User_id               18.73\n",
       "profileName           18.73\n",
       "review/helpfulness     0.00\n",
       "review/score           0.00\n",
       "review/time            0.00\n",
       "review/summary         0.01\n",
       "review/text            0.00\n",
       "description           21.34\n",
       "authors               13.02\n",
       "image                 18.01\n",
       "previewLink           11.02\n",
       "publisher             26.09\n",
       "publishedDate         11.82\n",
       "infoLink              11.02\n",
       "categories            18.38\n",
       "ratingsCount          45.36\n",
       "review_year            0.00\n",
       "review_month           0.00\n",
       "review_weekday         0.00\n",
       "dtype: float64"
      ]
     },
     "execution_count": 15,
     "metadata": {},
     "output_type": "execute_result"
    }
   ],
   "source": [
    "# Show % null value in each column:\n",
    "round(df.isnull().sum() / df.shape[0] * 100.00,2)"
   ]
  },
  {
   "cell_type": "code",
   "execution_count": 16,
   "id": "9c74a7e1-f168-437a-845e-0e328f6a07c8",
   "metadata": {},
   "outputs": [],
   "source": [
    "# List of columns to drop\n",
    "cols_to_drop = [\n",
    "    \"Id\",                      # Unique identifier, useless for sentiment\n",
    "    \"Price\",                   # Over 80 % missing\n",
    "    \"User_id\",                 # just an id - no predictive value\n",
    "    \"profileName\",             # profile name - no predictive value\n",
    "    \"image\",                   # Just a URL to the book cover - no predictive value\n",
    "    \"previewLink\",             # preview links is not  relevant at predicting sentiment\n",
    "    \"publishedDate\",           # keep pub_year instead\n",
    "    \"infoLink\"                 # Like previewLink - no predictive value\n",
    "]\n",
    "\n",
    "# Drop \n",
    "df.drop(columns=cols_to_drop, inplace=True)"
   ]
  },
  {
   "cell_type": "code",
   "execution_count": 17,
   "id": "b614cccb-7237-49b7-94e9-d65db3e15c57",
   "metadata": {},
   "outputs": [
    {
     "data": {
      "text/plain": [
       "Title                  0.01\n",
       "review/helpfulness     0.00\n",
       "review/score           0.00\n",
       "review/time            0.00\n",
       "review/summary         0.01\n",
       "review/text            0.00\n",
       "description           21.34\n",
       "authors               13.02\n",
       "publisher             26.09\n",
       "categories            18.38\n",
       "ratingsCount          45.36\n",
       "review_year            0.00\n",
       "review_month           0.00\n",
       "review_weekday         0.00\n",
       "dtype: float64"
      ]
     },
     "execution_count": 17,
     "metadata": {},
     "output_type": "execute_result"
    }
   ],
   "source": [
    "# check to see columns were dropped:\n",
    "round(df.isnull().sum() / df.shape[0] * 100.00,2)"
   ]
  },
  {
   "cell_type": "code",
   "execution_count": 18,
   "id": "895fad7f-0cc3-49f7-9101-11a2ebb40162",
   "metadata": {},
   "outputs": [
    {
     "name": "stdout",
     "output_type": "stream",
     "text": [
      "<class 'pandas.core.frame.DataFrame'>\n",
      "RangeIndex: 3000000 entries, 0 to 2999999\n",
      "Data columns (total 14 columns):\n",
      " #   Column              Dtype         \n",
      "---  ------              -----         \n",
      " 0   Title               object        \n",
      " 1   review/helpfulness  object        \n",
      " 2   review/score        float64       \n",
      " 3   review/time         datetime64[ns]\n",
      " 4   review/summary      object        \n",
      " 5   review/text         object        \n",
      " 6   description         object        \n",
      " 7   authors             object        \n",
      " 8   publisher           object        \n",
      " 9   categories          object        \n",
      " 10  ratingsCount        float64       \n",
      " 11  review_year         int32         \n",
      " 12  review_month        int32         \n",
      " 13  review_weekday      int32         \n",
      "dtypes: datetime64[ns](1), float64(2), int32(3), object(8)\n",
      "memory usage: 286.1+ MB\n"
     ]
    }
   ],
   "source": [
    "df.info()"
   ]
  },
  {
   "cell_type": "code",
   "execution_count": 19,
   "id": "a63e9fd2-8fea-4ad6-81d2-f85bf2e04139",
   "metadata": {},
   "outputs": [
    {
     "name": "stdout",
     "output_type": "stream",
     "text": [
      "Title               :  212403 \n",
      "review/helpfulness  :   12084 \n",
      "review/score        :       5 \n",
      "review/time         :    6272 \n",
      "review/summary      : 1592314 \n",
      "review/text         : 2062648 \n",
      "description         :  133226 \n",
      "authors             :  127278 \n",
      "publisher           :   16016 \n",
      "categories          :   10883 \n",
      "ratingsCount        :     478 \n"
     ]
    }
   ],
   "source": [
    "# List of columns to inspect\n",
    "cols = [\n",
    "    \"Title\",\n",
    "    \"review/helpfulness\",\n",
    "    \"review/score\",\n",
    "    \"review/time\",\n",
    "    \"review/summary\",\n",
    "    \"review/text\",\n",
    "    \"description\",\n",
    "    \"authors\",\n",
    "    \"publisher\",\n",
    "    \"categories\",\n",
    "    \"ratingsCount\"\n",
    "]\n",
    "\n",
    "# Compute and display the number of unique values \n",
    "total_rows = len(df)\n",
    "for col in cols:\n",
    "    unique_count = df[col].nunique(dropna=True)\n",
    "    print(f\"{col:20s}: {unique_count:7d} \")\n",
    "\n"
   ]
  },
  {
   "cell_type": "code",
   "execution_count": 20,
   "id": "39116c60-4aa7-4ec8-8b21-cdaa926e25de",
   "metadata": {},
   "outputs": [
    {
     "data": {
      "text/plain": [
       "review/score\n",
       "5.0    1807343\n",
       "4.0     585616\n",
       "3.0     254295\n",
       "1.0     201688\n",
       "2.0     151058\n",
       "Name: count, dtype: int64"
      ]
     },
     "execution_count": 20,
     "metadata": {},
     "output_type": "execute_result"
    }
   ],
   "source": [
    "# Star-rating distribution\n",
    "star_counts = df[\"review/score\"].value_counts()\n",
    "star_counts\n"
   ]
  },
  {
   "cell_type": "code",
   "execution_count": 21,
   "id": "9556c4cf-e5da-4bf0-a1bc-014e75208018",
   "metadata": {},
   "outputs": [
    {
     "data": {
      "text/plain": [
       "review/score\n",
       "5.0    60.244767\n",
       "4.0    19.520533\n",
       "3.0     8.476500\n",
       "1.0     6.722933\n",
       "2.0     5.035267\n",
       "Name: proportion, dtype: float64"
      ]
     },
     "execution_count": 21,
     "metadata": {},
     "output_type": "execute_result"
    }
   ],
   "source": [
    "star_percentages = df[\"review/score\"].value_counts(normalize=True) * 100\n",
    "star_percentages\n"
   ]
  },
  {
   "cell_type": "code",
   "execution_count": 22,
   "id": "bb2b9473-1314-49ba-b73f-ad99909c656b",
   "metadata": {},
   "outputs": [
    {
     "data": {
      "text/plain": [
       "review/score\n",
       "1.0     6.722933\n",
       "2.0     5.035267\n",
       "3.0     8.476500\n",
       "4.0    19.520533\n",
       "5.0    60.244767\n",
       "Name: proportion, dtype: float64"
      ]
     },
     "execution_count": 22,
     "metadata": {},
     "output_type": "execute_result"
    }
   ],
   "source": [
    "star_percentages = star_percentages.sort_index()\n",
    "star_percentages\n"
   ]
  },
  {
   "cell_type": "code",
   "execution_count": 23,
   "id": "52eb8cb4-b804-4fef-bbad-0572d827da96",
   "metadata": {},
   "outputs": [
    {
     "data": {
      "text/plain": [
       "review/score\n",
       "1.0     6.72\n",
       "2.0     5.04\n",
       "3.0     8.48\n",
       "4.0    19.52\n",
       "5.0    60.24\n",
       "Name: proportion, dtype: float64"
      ]
     },
     "execution_count": 23,
     "metadata": {},
     "output_type": "execute_result"
    }
   ],
   "source": [
    "star_percentages = star_percentages.round(2)\n",
    "star_percentages\n"
   ]
  },
  {
   "cell_type": "code",
   "execution_count": 24,
   "id": "b97c6b76-f6ea-4db0-a791-23952c735527",
   "metadata": {},
   "outputs": [
    {
     "name": "stderr",
     "output_type": "stream",
     "text": [
      "C:\\Users\\ymona\\AppData\\Local\\Temp\\ipykernel_4636\\3788879693.py:3: FutureWarning: A value is trying to be set on a copy of a DataFrame or Series through chained assignment using an inplace method.\n",
      "The behavior will change in pandas 3.0. This inplace method will never work because the intermediate object on which we are setting values always behaves as a copy.\n",
      "\n",
      "For example, when doing 'df[col].method(value, inplace=True)', try using 'df.method({col: value}, inplace=True)' or df[col] = df[col].method(value) instead, to perform the operation inplace on the original object.\n",
      "\n",
      "\n",
      "  df[col].fillna(\"\", inplace=True)\n",
      "C:\\Users\\ymona\\AppData\\Local\\Temp\\ipykernel_4636\\3788879693.py:6: FutureWarning: A value is trying to be set on a copy of a DataFrame or Series through chained assignment using an inplace method.\n",
      "The behavior will change in pandas 3.0. This inplace method will never work because the intermediate object on which we are setting values always behaves as a copy.\n",
      "\n",
      "For example, when doing 'df[col].method(value, inplace=True)', try using 'df.method({col: value}, inplace=True)' or df[col] = df[col].method(value) instead, to perform the operation inplace on the original object.\n",
      "\n",
      "\n",
      "  df[\"ratingsCount\"].fillna(0, inplace=True)\n",
      "C:\\Users\\ymona\\AppData\\Local\\Temp\\ipykernel_4636\\3788879693.py:9: FutureWarning: A value is trying to be set on a copy of a DataFrame or Series through chained assignment using an inplace method.\n",
      "The behavior will change in pandas 3.0. This inplace method will never work because the intermediate object on which we are setting values always behaves as a copy.\n",
      "\n",
      "For example, when doing 'df[col].method(value, inplace=True)', try using 'df.method({col: value}, inplace=True)' or df[col] = df[col].method(value) instead, to perform the operation inplace on the original object.\n",
      "\n",
      "\n",
      "  df[\"authors\"].fillna(\"Unknown\", inplace=True)\n",
      "C:\\Users\\ymona\\AppData\\Local\\Temp\\ipykernel_4636\\3788879693.py:10: FutureWarning: A value is trying to be set on a copy of a DataFrame or Series through chained assignment using an inplace method.\n",
      "The behavior will change in pandas 3.0. This inplace method will never work because the intermediate object on which we are setting values always behaves as a copy.\n",
      "\n",
      "For example, when doing 'df[col].method(value, inplace=True)', try using 'df.method({col: value}, inplace=True)' or df[col] = df[col].method(value) instead, to perform the operation inplace on the original object.\n",
      "\n",
      "\n",
      "  df[\"publisher\"].fillna(\"Unknown\", inplace=True)\n",
      "C:\\Users\\ymona\\AppData\\Local\\Temp\\ipykernel_4636\\3788879693.py:11: FutureWarning: A value is trying to be set on a copy of a DataFrame or Series through chained assignment using an inplace method.\n",
      "The behavior will change in pandas 3.0. This inplace method will never work because the intermediate object on which we are setting values always behaves as a copy.\n",
      "\n",
      "For example, when doing 'df[col].method(value, inplace=True)', try using 'df.method({col: value}, inplace=True)' or df[col] = df[col].method(value) instead, to perform the operation inplace on the original object.\n",
      "\n",
      "\n",
      "  df[\"categories\"].fillna(\"categories\", inplace=True)\n"
     ]
    }
   ],
   "source": [
    "# Replace missing values with \"\" in text fields so tokenizer skips them\n",
    "for col in [\"Title\", \"review/summary\", \"description\"]:\n",
    "    df[col].fillna(\"\", inplace=True)                      \n",
    "\n",
    "# Replace missing number of ratings with 0\n",
    "df[\"ratingsCount\"].fillna(0, inplace=True)      \n",
    "\n",
    "# Replace missing author names, publishers & categories with \"Unknown\"\n",
    "df[\"authors\"].fillna(\"Unknown\", inplace=True)           \n",
    "df[\"publisher\"].fillna(\"Unknown\", inplace=True)         \n",
    "df[\"categories\"].fillna(\"categories\", inplace=True)         "
   ]
  },
  {
   "cell_type": "code",
   "execution_count": 25,
   "id": "78fed35a-1fd0-4320-b6e1-33707f9fa55f",
   "metadata": {},
   "outputs": [],
   "source": [
    "# Split \"review/helpfulness\" like \"3/5\" into two separate columns\n",
    "help_df = df[\"review/helpfulness\"].str.split(\"/\", expand=True)\n",
    "\n",
    "# Convert both columns to float numbers\n",
    "help_df = help_df.astype(float)\n"
   ]
  },
  {
   "cell_type": "code",
   "execution_count": 26,
   "id": "4fbc8994-1001-4b76-9425-52730c763fbe",
   "metadata": {},
   "outputs": [],
   "source": [
    "# Divide helpful votes (numerator) by total votes (denominator)\n",
    "df[\"help_ratio\"] = help_df[0] / help_df[1]\n"
   ]
  },
  {
   "cell_type": "code",
   "execution_count": 27,
   "id": "0a8a45ef-5ec4-40ed-adbc-546ab4b629a4",
   "metadata": {},
   "outputs": [],
   "source": [
    "# Replace any NaN (from 0/0 or missing data) with 0\n",
    "df[\"help_ratio\"] = df[\"help_ratio\"].fillna(0)\n"
   ]
  },
  {
   "cell_type": "code",
   "execution_count": 28,
   "id": "19335669-626e-4e34-9ddd-68be9c672189",
   "metadata": {},
   "outputs": [],
   "source": [
    "# drop the original \"review/helpfulness\" column\n",
    "df.drop(columns=[\"review/helpfulness\"], inplace=True)"
   ]
  },
  {
   "cell_type": "code",
   "execution_count": 29,
   "id": "980f0f6d-1e57-4752-8c62-16f16926e1fe",
   "metadata": {},
   "outputs": [
    {
     "data": {
      "text/plain": [
       "Title             0.0\n",
       "review/score      0.0\n",
       "review/time       0.0\n",
       "review/summary    0.0\n",
       "review/text       0.0\n",
       "description       0.0\n",
       "authors           0.0\n",
       "publisher         0.0\n",
       "categories        0.0\n",
       "ratingsCount      0.0\n",
       "review_year       0.0\n",
       "review_month      0.0\n",
       "review_weekday    0.0\n",
       "help_ratio        0.0\n",
       "dtype: float64"
      ]
     },
     "execution_count": 29,
     "metadata": {},
     "output_type": "execute_result"
    }
   ],
   "source": [
    "# Check for missing values (%), ensure 'help_ratio' has no NaNs, and confirm 'review/helpfulness' was dropped\n",
    "round(df.isnull().sum() / df.shape[0] * 100.00,2)"
   ]
  },
  {
   "cell_type": "code",
   "execution_count": 30,
   "id": "f53a1d89-2378-401e-92be-c1bb7c3dc432",
   "metadata": {},
   "outputs": [],
   "source": [
    "# Authors bucketing — keep only the top 100 authors, group all others as “Other”\n",
    "TOP_N = 100\n"
   ]
  },
  {
   "cell_type": "code",
   "execution_count": 31,
   "id": "6c27ee63-3fad-4a96-a26d-c1067cbee0f9",
   "metadata": {},
   "outputs": [],
   "source": [
    "# Count how often each author appears and keep the top 100\n",
    "top_authors = df[\"authors\"].value_counts().nlargest(TOP_N)\n"
   ]
  },
  {
   "cell_type": "code",
   "execution_count": 32,
   "id": "7e010a18-8300-471a-831e-e4f4e1957ad9",
   "metadata": {},
   "outputs": [],
   "source": [
    "# If the author is in the top 100, keep it; otherwise set as \"Other\"\n",
    "df[\"authors_bucketed\"] = df[\"authors\"].where(df[\"authors\"].isin(top_authors.index), \"Other\")\n"
   ]
  },
  {
   "cell_type": "code",
   "execution_count": 33,
   "id": "ee2f2ac8-5733-4512-a1e9-e1fbddacdd29",
   "metadata": {},
   "outputs": [
    {
     "name": "stdout",
     "output_type": "stream",
     "text": [
      "101 unique author buckets\n"
     ]
    }
   ],
   "source": [
    "# There should be 101 buckets: 100 top authors + 1 \"Other\"\n",
    "print(df[\"authors_bucketed\"].nunique(), \"unique author buckets\")\n"
   ]
  },
  {
   "cell_type": "code",
   "execution_count": 34,
   "id": "674ad0c4-9e5f-4ae9-83de-3ecc1b2f897f",
   "metadata": {},
   "outputs": [],
   "source": [
    "# Categories bucketing — keep only the top 100 categories, group all others as “Other”\n",
    "TOP_N_CATEGORIES = 100\n"
   ]
  },
  {
   "cell_type": "code",
   "execution_count": 35,
   "id": "975d4e29-664e-4959-ac57-7735365a8201",
   "metadata": {},
   "outputs": [],
   "source": [
    "# Count how often each category appears and keep the top 100\n",
    "top_categories = df[\"categories\"].value_counts().nlargest(TOP_N_CATEGORIES)\n"
   ]
  },
  {
   "cell_type": "code",
   "execution_count": 36,
   "id": "ae6a3e23-a3f5-4dc8-8b77-3c2040f88126",
   "metadata": {},
   "outputs": [],
   "source": [
    "# If the category is in the top 100, keep it; otherwise set as \"Other\"\n",
    "df[\"categories_bucketed\"] = df[\"categories\"].where(df[\"categories\"].isin(top_categories.index), \"Other\")\n"
   ]
  },
  {
   "cell_type": "code",
   "execution_count": 37,
   "id": "f7b5088d-2424-4337-878c-fee569de4cf8",
   "metadata": {},
   "outputs": [
    {
     "name": "stdout",
     "output_type": "stream",
     "text": [
      "101 unique category buckets\n"
     ]
    }
   ],
   "source": [
    "# There should be 101 buckets: 100 top categories + 1 \"Other\"\n",
    "print(df[\"categories_bucketed\"].nunique(), \"unique category buckets\")\n"
   ]
  },
  {
   "cell_type": "code",
   "execution_count": 38,
   "id": "9704e9d6-0422-469e-9f84-3503226aaaaf",
   "metadata": {},
   "outputs": [
    {
     "data": {
      "text/html": [
       "<div>\n",
       "<style scoped>\n",
       "    .dataframe tbody tr th:only-of-type {\n",
       "        vertical-align: middle;\n",
       "    }\n",
       "\n",
       "    .dataframe tbody tr th {\n",
       "        vertical-align: top;\n",
       "    }\n",
       "\n",
       "    .dataframe thead th {\n",
       "        text-align: right;\n",
       "    }\n",
       "</style>\n",
       "<table border=\"1\" class=\"dataframe\">\n",
       "  <thead>\n",
       "    <tr style=\"text-align: right;\">\n",
       "      <th></th>\n",
       "      <th>Title</th>\n",
       "      <th>review/score</th>\n",
       "      <th>review/time</th>\n",
       "      <th>review/summary</th>\n",
       "      <th>review/text</th>\n",
       "      <th>description</th>\n",
       "      <th>authors</th>\n",
       "      <th>publisher</th>\n",
       "      <th>categories</th>\n",
       "      <th>ratingsCount</th>\n",
       "      <th>review_year</th>\n",
       "      <th>review_month</th>\n",
       "      <th>review_weekday</th>\n",
       "      <th>help_ratio</th>\n",
       "      <th>authors_bucketed</th>\n",
       "      <th>categories_bucketed</th>\n",
       "    </tr>\n",
       "  </thead>\n",
       "  <tbody>\n",
       "    <tr>\n",
       "      <th>0</th>\n",
       "      <td>Its Only Art If Its Well Hung!</td>\n",
       "      <td>4.0</td>\n",
       "      <td>1999-10-23</td>\n",
       "      <td>Nice collection of Julie Strain images</td>\n",
       "      <td>This is only for Julie Strain fans. It's a col...</td>\n",
       "      <td></td>\n",
       "      <td>['Julie Strain']</td>\n",
       "      <td>Unknown</td>\n",
       "      <td>['Comics &amp; Graphic Novels']</td>\n",
       "      <td>0.0</td>\n",
       "      <td>1999</td>\n",
       "      <td>10</td>\n",
       "      <td>5</td>\n",
       "      <td>1.000000</td>\n",
       "      <td>Other</td>\n",
       "      <td>['Comics &amp; Graphic Novels']</td>\n",
       "    </tr>\n",
       "    <tr>\n",
       "      <th>1</th>\n",
       "      <td>Dr. Seuss: American Icon</td>\n",
       "      <td>5.0</td>\n",
       "      <td>2004-09-21</td>\n",
       "      <td>Really Enjoyed It</td>\n",
       "      <td>I don't care much for Dr. Seuss but after read...</td>\n",
       "      <td>Philip Nel takes a fascinating look into the k...</td>\n",
       "      <td>['Philip Nel']</td>\n",
       "      <td>A&amp;C Black</td>\n",
       "      <td>['Biography &amp; Autobiography']</td>\n",
       "      <td>0.0</td>\n",
       "      <td>2004</td>\n",
       "      <td>9</td>\n",
       "      <td>1</td>\n",
       "      <td>1.000000</td>\n",
       "      <td>Other</td>\n",
       "      <td>['Biography &amp; Autobiography']</td>\n",
       "    </tr>\n",
       "    <tr>\n",
       "      <th>2</th>\n",
       "      <td>Dr. Seuss: American Icon</td>\n",
       "      <td>5.0</td>\n",
       "      <td>2004-03-09</td>\n",
       "      <td>Essential for every personal and Public Library</td>\n",
       "      <td>If people become the books they read and if \"t...</td>\n",
       "      <td>Philip Nel takes a fascinating look into the k...</td>\n",
       "      <td>['Philip Nel']</td>\n",
       "      <td>A&amp;C Black</td>\n",
       "      <td>['Biography &amp; Autobiography']</td>\n",
       "      <td>0.0</td>\n",
       "      <td>2004</td>\n",
       "      <td>3</td>\n",
       "      <td>1</td>\n",
       "      <td>0.909091</td>\n",
       "      <td>Other</td>\n",
       "      <td>['Biography &amp; Autobiography']</td>\n",
       "    </tr>\n",
       "    <tr>\n",
       "      <th>3</th>\n",
       "      <td>Dr. Seuss: American Icon</td>\n",
       "      <td>4.0</td>\n",
       "      <td>2004-07-25</td>\n",
       "      <td>Phlip Nel gives silly Seuss a serious treatment</td>\n",
       "      <td>Theodore Seuss Geisel (1904-1991), aka &amp;quot;D...</td>\n",
       "      <td>Philip Nel takes a fascinating look into the k...</td>\n",
       "      <td>['Philip Nel']</td>\n",
       "      <td>A&amp;C Black</td>\n",
       "      <td>['Biography &amp; Autobiography']</td>\n",
       "      <td>0.0</td>\n",
       "      <td>2004</td>\n",
       "      <td>7</td>\n",
       "      <td>6</td>\n",
       "      <td>1.000000</td>\n",
       "      <td>Other</td>\n",
       "      <td>['Biography &amp; Autobiography']</td>\n",
       "    </tr>\n",
       "    <tr>\n",
       "      <th>4</th>\n",
       "      <td>Dr. Seuss: American Icon</td>\n",
       "      <td>4.0</td>\n",
       "      <td>2005-02-10</td>\n",
       "      <td>Good academic overview</td>\n",
       "      <td>Philip Nel - Dr. Seuss: American IconThis is b...</td>\n",
       "      <td>Philip Nel takes a fascinating look into the k...</td>\n",
       "      <td>['Philip Nel']</td>\n",
       "      <td>A&amp;C Black</td>\n",
       "      <td>['Biography &amp; Autobiography']</td>\n",
       "      <td>0.0</td>\n",
       "      <td>2005</td>\n",
       "      <td>2</td>\n",
       "      <td>3</td>\n",
       "      <td>1.000000</td>\n",
       "      <td>Other</td>\n",
       "      <td>['Biography &amp; Autobiography']</td>\n",
       "    </tr>\n",
       "  </tbody>\n",
       "</table>\n",
       "</div>"
      ],
      "text/plain": [
       "                            Title  review/score review/time  \\\n",
       "0  Its Only Art If Its Well Hung!           4.0  1999-10-23   \n",
       "1        Dr. Seuss: American Icon           5.0  2004-09-21   \n",
       "2        Dr. Seuss: American Icon           5.0  2004-03-09   \n",
       "3        Dr. Seuss: American Icon           4.0  2004-07-25   \n",
       "4        Dr. Seuss: American Icon           4.0  2005-02-10   \n",
       "\n",
       "                                    review/summary  \\\n",
       "0           Nice collection of Julie Strain images   \n",
       "1                                Really Enjoyed It   \n",
       "2  Essential for every personal and Public Library   \n",
       "3  Phlip Nel gives silly Seuss a serious treatment   \n",
       "4                           Good academic overview   \n",
       "\n",
       "                                         review/text  \\\n",
       "0  This is only for Julie Strain fans. It's a col...   \n",
       "1  I don't care much for Dr. Seuss but after read...   \n",
       "2  If people become the books they read and if \"t...   \n",
       "3  Theodore Seuss Geisel (1904-1991), aka &quot;D...   \n",
       "4  Philip Nel - Dr. Seuss: American IconThis is b...   \n",
       "\n",
       "                                         description           authors  \\\n",
       "0                                                     ['Julie Strain']   \n",
       "1  Philip Nel takes a fascinating look into the k...    ['Philip Nel']   \n",
       "2  Philip Nel takes a fascinating look into the k...    ['Philip Nel']   \n",
       "3  Philip Nel takes a fascinating look into the k...    ['Philip Nel']   \n",
       "4  Philip Nel takes a fascinating look into the k...    ['Philip Nel']   \n",
       "\n",
       "   publisher                     categories  ratingsCount  review_year  \\\n",
       "0    Unknown    ['Comics & Graphic Novels']           0.0         1999   \n",
       "1  A&C Black  ['Biography & Autobiography']           0.0         2004   \n",
       "2  A&C Black  ['Biography & Autobiography']           0.0         2004   \n",
       "3  A&C Black  ['Biography & Autobiography']           0.0         2004   \n",
       "4  A&C Black  ['Biography & Autobiography']           0.0         2005   \n",
       "\n",
       "   review_month  review_weekday  help_ratio authors_bucketed  \\\n",
       "0            10               5    1.000000            Other   \n",
       "1             9               1    1.000000            Other   \n",
       "2             3               1    0.909091            Other   \n",
       "3             7               6    1.000000            Other   \n",
       "4             2               3    1.000000            Other   \n",
       "\n",
       "             categories_bucketed  \n",
       "0    ['Comics & Graphic Novels']  \n",
       "1  ['Biography & Autobiography']  \n",
       "2  ['Biography & Autobiography']  \n",
       "3  ['Biography & Autobiography']  \n",
       "4  ['Biography & Autobiography']  "
      ]
     },
     "execution_count": 38,
     "metadata": {},
     "output_type": "execute_result"
    }
   ],
   "source": [
    "df.head()"
   ]
  },
  {
   "cell_type": "code",
   "execution_count": 39,
   "id": "40a3a873-8a42-4fde-a163-da0b52b3922a",
   "metadata": {},
   "outputs": [
    {
     "name": "stdout",
     "output_type": "stream",
     "text": [
      "Subsample shape: (150000, 16)\n",
      "\n"
     ]
    }
   ],
   "source": [
    "# Subsampling strategy for fast iteration\n",
    "\n",
    "df_s = df.sample(frac=SUB_FRAC, random_state=SEED).reset_index(drop=True)\n",
    "print(f\"Subsample shape: {df_s.shape}\\n\")"
   ]
  },
  {
   "cell_type": "code",
   "execution_count": 40,
   "id": "8f840b56-1883-477a-b413-7eeed3ae74fa",
   "metadata": {},
   "outputs": [
    {
     "name": "stdout",
     "output_type": "stream",
     "text": [
      "Dropped neutrals: 12656 rows — remaining: 137344\n"
     ]
    }
   ],
   "source": [
    "# Create binary sentiment: 0 for ≤2-star, 1 for ≥4-star, drop 3-star neutrals \n",
    "df_s[\"sentiment\"] = np.select(\n",
    "    [df_s[\"review/score\"] <= 2, df_s[\"review/score\"] >= 4],\n",
    "    [0, 1],\n",
    "    default=np.nan\n",
    ")\n",
    "# Save initial number of rows to compare later\n",
    "initial_rows = len(df_s)\n",
    "\n",
    "# Drop rows where sentiment is NaN (the 3-star reviews)\n",
    "df_s.dropna(subset=[\"sentiment\"], inplace=True)\n",
    "\n",
    "# Convert sentiment values from float to int \n",
    "df_s[\"sentiment\"] = df_s[\"sentiment\"].astype(int)\n",
    "print(f\"Dropped neutrals: {initial_rows - len(df_s)} rows — remaining: {len(df_s)}\")"
   ]
  },
  {
   "cell_type": "code",
   "execution_count": 41,
   "id": "de207b80-c9a0-4696-8940-ec26618d433a",
   "metadata": {},
   "outputs": [
    {
     "data": {
      "text/plain": [
       "sentiment\n",
       "1    87.16\n",
       "0    12.84\n",
       "Name: proportion, dtype: float64"
      ]
     },
     "execution_count": 41,
     "metadata": {},
     "output_type": "execute_result"
    }
   ],
   "source": [
    "# Show sentiment class distribution in %\n",
    "sentiment_pct = (df_s[\"sentiment\"].value_counts(normalize=True) * 100).round(2)\n",
    "sentiment_pct\n"
   ]
  },
  {
   "cell_type": "code",
   "execution_count": 42,
   "id": "c964d67d-f5f1-404a-b7f3-bb1c3f67e0d2",
   "metadata": {},
   "outputs": [
    {
     "name": "stdout",
     "output_type": "stream",
     "text": [
      "<class 'pandas.core.frame.DataFrame'>\n",
      "RangeIndex: 3000000 entries, 0 to 2999999\n",
      "Data columns (total 16 columns):\n",
      " #   Column               Dtype         \n",
      "---  ------               -----         \n",
      " 0   Title                object        \n",
      " 1   review/score         float64       \n",
      " 2   review/time          datetime64[ns]\n",
      " 3   review/summary       object        \n",
      " 4   review/text          object        \n",
      " 5   description          object        \n",
      " 6   authors              object        \n",
      " 7   publisher            object        \n",
      " 8   categories           object        \n",
      " 9   ratingsCount         float64       \n",
      " 10  review_year          int32         \n",
      " 11  review_month         int32         \n",
      " 12  review_weekday       int32         \n",
      " 13  help_ratio           float64       \n",
      " 14  authors_bucketed     object        \n",
      " 15  categories_bucketed  object        \n",
      "dtypes: datetime64[ns](1), float64(3), int32(3), object(9)\n",
      "memory usage: 331.9+ MB\n"
     ]
    }
   ],
   "source": [
    "df.info()"
   ]
  },
  {
   "cell_type": "code",
   "execution_count": 43,
   "id": "f3bfe9ea-3578-4ff1-81da-57cbddd6a539",
   "metadata": {},
   "outputs": [
    {
     "name": "stderr",
     "output_type": "stream",
     "text": [
      "100%|██████████| 137344/137344 [00:17<00:00, 7698.29it/s]\n",
      "100%|██████████| 137344/137344 [1:15:12<00:00, 30.44it/s]\n"
     ]
    }
   ],
   "source": [
    "# Text preprocessing & tokenization \n",
    "\n",
    "# Merge all text fields into one\n",
    "df_s[\"raw_text\"] = (\n",
    "    df_s[\"review/text\"].fillna(\"\") + \" \" +\n",
    "    df_s[\"review/summary\"].fillna(\"\") + \" \" +\n",
    "    df_s[\"description\"].fillna(\"\") + \" \" +\n",
    "    df_s[\"Title\"].fillna(\"\")\n",
    ")     \n",
    "\n",
    "\n",
    "# Load English NLP model from spacy\n",
    "_nlp = spacy.load(\"en_core_web_sm\")\n",
    "\n",
    "# clean raw text to string\n",
    "\n",
    "# Define a text cleaning function\n",
    "def clean_text(text: str) -> str:\n",
    "    text = str(text).lower()\n",
    "    text = re.sub(r\"https?://\\S+|www\\.\\S+\", \"\", text)                 # remove URLs\n",
    "    text = text.translate(str.maketrans(\"\", \"\", string.punctuation))  # remove punctuation\n",
    "    text = re.sub(r\"\\d+\", \"\", text)                                  # remove digits\n",
    "    return re.sub(r\"\\s+\", \" \", text).strip()                         # clean up whitespace\n",
    "\n",
    "# define a tokenization + lemmatization function\n",
    "\n",
    "def spacy_tokens(doc: str):\n",
    "    doc = _nlp(doc)\n",
    "    return [\n",
    "        tok.lemma_.lower()              # reduces words to their base forms \n",
    "        for tok in doc\n",
    "        if tok.is_alpha                # Keeps only alphabetic words \n",
    "        and not tok.is_stop            # Removes stopwords \n",
    "        and len(tok) > 1               # Keeps only words with more than 1 character\n",
    "    ]\n",
    "    \n",
    "# Apply text cleaning to raw_text column\n",
    "df_s[\"clean_text\"] = df_s[\"raw_text\"].progress_apply(clean_text)  \n",
    "\n",
    "# Apply tokenization and lemmatization to the cleaned text\n",
    "df_s[\"tokens\"]     = df_s[\"clean_text\"].progress_apply(spacy_tokens)  \n",
    "\n"
   ]
  },
  {
   "cell_type": "code",
   "execution_count": 44,
   "id": "7fafab82-8a9a-4ee9-881a-c394aa9226d1",
   "metadata": {},
   "outputs": [
    {
     "name": "stdout",
     "output_type": "stream",
     "text": [
      "Train rows: 109875 | Test rows: 27469\n"
     ]
    }
   ],
   "source": [
    "# train-test split \n",
    "train_idx, test_idx = train_test_split(\n",
    "    df_s.index,\n",
    "    stratify=df_s[\"sentiment\"], # ensures class balance in both sets\n",
    "    test_size=0.2,\n",
    "    random_state=SEED   # ensures reproducibility\n",
    ")\n",
    "\n",
    "train_df = df_s.loc[train_idx].reset_index(drop=True)\n",
    "test_df  = df_s.loc[test_idx].reset_index(drop=True)\n",
    "print(f\"Train rows: {len(train_df)} | Test rows: {len(test_df)}\")"
   ]
  },
  {
   "cell_type": "code",
   "execution_count": 45,
   "id": "6d82699b-373f-4beb-94fc-a337e758a848",
   "metadata": {},
   "outputs": [
    {
     "name": "stdout",
     "output_type": "stream",
     "text": [
      "Chosen sequence length: 292\n",
      "Building Bi-LSTM …\n",
      "Epoch 1/10\n",
      "773/773 - 347s - loss: 0.2554 - accuracy: 0.9051 - val_loss: 0.2080 - val_accuracy: 0.9225 - 347s/epoch - 449ms/step\n",
      "Epoch 2/10\n",
      "773/773 - 601s - loss: 0.1846 - accuracy: 0.9316 - val_loss: 0.2142 - val_accuracy: 0.9200 - 601s/epoch - 778ms/step\n",
      "Epoch 3/10\n",
      "773/773 - 509s - loss: 0.1588 - accuracy: 0.9421 - val_loss: 0.2130 - val_accuracy: 0.9226 - 509s/epoch - 659ms/step\n",
      "Bi-LSTM test accuracy: 0.919\n",
      "\n"
     ]
    }
   ],
   "source": [
    "# LSTM model on all text columns combined\n",
    "# Merge tokens into text strings\n",
    "train_texts = train_df[\"tokens\"].str.join(\" \")    # all_tokens = review+summary+description+Title\n",
    "test_texts  = test_df[\"tokens\"].str.join(\" \")\n",
    "\n",
    "# Initialize tokenizer\n",
    "_tokenizer = Tokenizer(num_words=MAX_WORDS, oov_token=\"<OOV>\")\n",
    "_tokenizer.fit_on_texts(train_texts)\n",
    "\n",
    "# Convert text to sequences of word indices\n",
    "seq_train = _tokenizer.texts_to_sequences(train_texts)\n",
    "seq_test  = _tokenizer.texts_to_sequences(test_texts)\n",
    "\n",
    "# cover 95 % token count in train set\n",
    "maxlen = int(pd.Series([len(s) for s in seq_train]).quantile(0.95))\n",
    "print(f\"Chosen sequence length: {maxlen}\")\n",
    "\n",
    "\n",
    "# Pad sequences to fixed length\n",
    "X_train_text = pad_sequences(seq_train, maxlen=maxlen, padding=\"post\", truncating=\"post\")\n",
    "X_test_text  = pad_sequences(seq_test,  maxlen=maxlen, padding=\"post\", truncating=\"post\")\n",
    "\n",
    "# Extract target labels\n",
    "y_train = train_df[\"sentiment\"].values\n",
    "y_test  = test_df[\"sentiment\"].values\n",
    "\n",
    "# Define Bi-LSTM model\n",
    "print(\"Building Bi-LSTM …\")\n",
    "model = keras.Sequential([\n",
    "    layers.Embedding(MAX_WORDS, EMBED_DIM, input_length=maxlen), # word embeddings\n",
    "    layers.Bidirectional(layers.LSTM(64)),    # Bi-LSTM layer\n",
    "    layers.Dense(32, activation=\"relu\"),        # dense hidden layer\n",
    "    layers.Dense(1,  activation=\"sigmoid\")      # binary output\n",
    "])\n",
    "\n",
    "# Compile model\n",
    "model.compile(optimizer=\"adam\", loss=\"binary_crossentropy\", metrics=[\"accuracy\"])\n",
    "\n",
    "\n",
    "# Set early stopping\n",
    "callbacks = [keras.callbacks.EarlyStopping(patience=PATIENCE, restore_best_weights=True)]\n",
    "\n",
    "\n",
    "# Train model\n",
    "history = model.fit(\n",
    "    X_train_text, y_train,\n",
    "    validation_split=0.1,\n",
    "    epochs=EPOCHS,\n",
    "    batch_size=BATCH_SIZE,\n",
    "    callbacks=callbacks,\n",
    "    verbose=2\n",
    ")\n",
    "\n",
    "# Evaluate on test set\n",
    "loss, acc = model.evaluate(X_test_text, y_test, verbose=0)\n",
    "print(f\"Bi-LSTM test accuracy: {acc:.3f}\\n\")\n",
    "\n"
   ]
  },
  {
   "cell_type": "markdown",
   "id": "0c08cf42-e1bb-4f93-b9cb-0233c3abf237",
   "metadata": {},
   "source": [
    "So after cleaning and preparing the data, I trained a Bi-LSTM model on the full set of combined text fields review, summary, description, and title.  The model trained for 3 epochs before early stopping kicked in. It started at around 90% accuracy and improved steadily, ending with a final test accuracy of about 92%. That shows the model is learning well and generalizing effectively to new, unseen reviews."
   ]
  },
  {
   "cell_type": "code",
   "execution_count": 47,
   "id": "883d55f0-ba48-46e9-8dcd-f1b015f3db26",
   "metadata": {},
   "outputs": [
    {
     "name": "stdout",
     "output_type": "stream",
     "text": [
      "Confusion matrix (rows=true, cols=predicted):\n",
      " [[ 1970  1556]\n",
      " [  669 23274]]\n",
      "\n",
      "Classification report:\n",
      "               precision    recall  f1-score   support\n",
      "\n",
      "    negative       0.75      0.56      0.64      3526\n",
      "    positive       0.94      0.97      0.95     23943\n",
      "\n",
      "    accuracy                           0.92     27469\n",
      "   macro avg       0.84      0.77      0.80     27469\n",
      "weighted avg       0.91      0.92      0.91     27469\n",
      "\n"
     ]
    }
   ],
   "source": [
    "# Get predicted labels \n",
    "y_pred_proba = model.predict(X_test_text, verbose=0)\n",
    "y_pred = (y_pred_proba >= 0.5).astype(int).reshape(-1)\n",
    "\n",
    "# Confusion matrix\n",
    "cm = confusion_matrix(y_test, y_pred)\n",
    "print(\"Confusion matrix (rows=true, cols=predicted):\\n\", cm)\n",
    "\n",
    "# Precision, recall, f1 for each class\n",
    "print(\"\\nClassification report:\\n\", classification_report(y_test, y_pred, target_names=[\"negative\",\"positive\"]))"
   ]
  },
  {
   "cell_type": "markdown",
   "id": "f32d008c-b8d9-4116-b596-1df819f3eada",
   "metadata": {},
   "source": [
    "Overall accuracy is 92%. The model recognizes positive reviews well (precision 0.94, recall 0.97). The negative class is weaker: recall is 0.56, with 1,556 negatives predicted as positive. Because positives are the majority, the weighted scores stay high. "
   ]
  },
  {
   "cell_type": "code",
   "execution_count": 48,
   "id": "f6e8c1f8-dd37-4064-94fa-1ee9f272eee1",
   "metadata": {},
   "outputs": [
    {
     "data": {
      "image/png": "[encoded data removed]",
      "text/plain": [
       "<Figure size 600x400 with 1 Axes>"
      ]
     },
     "metadata": {},
     "output_type": "display_data"
    }
   ],
   "source": [
    "# Evaluation & visualisation \n",
    "plt.figure(figsize=(6,4))\n",
    "plt.plot(history.history[\"accuracy\"],     label=\"train\")\n",
    "plt.plot(history.history[\"val_accuracy\"], label=\"validation\")\n",
    "plt.xlabel(\"Epoch\"); plt.ylabel(\"Accuracy\"); plt.title(\"Bi-LSTM Accuracy vs. Epoch\")\n",
    "plt.legend(); plt.grid(True); plt.tight_layout(); plt.show()"
   ]
  },
  {
   "cell_type": "markdown",
   "id": "b87fd74f-0614-4f58-b8ce-2c2128d6ab38",
   "metadata": {},
   "source": [
    "The chart shows training accuracy climbing each epoch (about 0.905 → 0.945), while validation accuracy stays roughly flat around 0.92–0.923.  Early stopping kicked in after 3 epochs because validation stopped improving, so more epochs likely wouldn’t help. Overall, the model learns quickly and stabilizes."
   ]
  },
  {
   "cell_type": "code",
   "execution_count": 49,
   "id": "52f3c2fd-896d-47f8-999f-3a40fcbba665",
   "metadata": {},
   "outputs": [],
   "source": [
    "# Export trained Bi-LSTM from the notebook"
   ]
  },
  {
   "cell_type": "code",
   "execution_count": 113,
   "id": "e52bbceb-2c24-4e1f-bb83-a59b2b8a01c1",
   "metadata": {},
   "outputs": [],
   "source": [
    "from tensorflow import keras\n",
    "import os, json\n",
    "\n",
    "# Choose the folder where you want to store the saved (model/tokenizer/maxlen)\n",
    "SAVE_DIR = r\"C:\\Users\\ymona\\Documents\\final_milestone_1014\"\n",
    "\n",
    "# Create the folder\n",
    "os.makedirs(SAVE_DIR, exist_ok=True)\n",
    "\n",
    "# Build the full path for the model file (bilstm.keras) inside SAVE_DIR\n",
    "model_path = os.path.join(SAVE_DIR, \"bilstm.keras\")\n",
    "\n",
    "# Save the trained Keras model in .keras format\n",
    "model.save(model_path)\n",
    "\n",
    "#  Save tokenizer.json\n",
    "TOKENIZER_PATH = os.path.join(SAVE_DIR, \"tokenizer.json\")\n",
    "\n",
    "with open(TOKENIZER_PATH, \"w\", encoding=\"utf-8\") as f:\n",
    "    f.write(_tokenizer.to_json())\n",
    "\n",
    "# Save maxlen.txt\n",
    "MAXLEN_PATH = os.path.join(SAVE_DIR, \"maxlen.txt\")\n",
    "\n",
    "with open(MAXLEN_PATH, \"w\", encoding=\"utf-8\") as f:\n",
    "    f.write(str(int(maxlen)))"
   ]
  },
  {
   "cell_type": "markdown",
   "id": "c98f546f-25fe-4274-b794-6871f16e2f01",
   "metadata": {},
   "source": [
    "The file `bilstm.keras` is the actual trained  Bi-LSTM’s architecture and learned weights.\n",
    "\n",
    "The file `tokenizer.json` is the dictionary the model learned from. \n",
    "\n",
    "Finally, `maxlen.txt` is the sequence length it padded/truncated to; using the same length at prediction time keeps inputs in the shape the model expects. "
   ]
  },
  {
   "cell_type": "code",
   "execution_count": null,
   "id": "d725d028-55ff-4d5f-97e5-cb4db8060e62",
   "metadata": {},
   "outputs": [],
   "source": [
    "## Save model card (governance & reproducibility)"
   ]
  },
  {
   "cell_type": "code",
   "execution_count": 116,
   "id": "661e3eea-d4d0-48d6-a1a2-c90caafab58d",
   "metadata": {},
   "outputs": [
    {
     "name": "stdout",
     "output_type": "stream",
     "text": [
      "Wrote: C:\\Users\\ymona\\Documents\\final_milestone_1014\\model_card.json\n"
     ]
    }
   ],
   "source": [
    "import  datetime, platform\n",
    "\n",
    "# Open a file called \"model_card.json\" in SAVE_DIR for writing as UTF-8 text\n",
    "with open(os.path.join(SAVE_DIR, \"model_card.json\"), \"w\", encoding=\"utf-8\") as f:\n",
    "    # Write a Python dict into the file\n",
    "    json.dump({\n",
    "        #  name for trained model\n",
    "        \"model_name\": \"BiLSTM_book_sentiment\",\n",
    "\n",
    "        # When this card was created \n",
    "        \"created\": str(datetime.datetime.now()),\n",
    "\n",
    "        # Exact Python version for reproducibility\n",
    "        \"python\": platform.python_version(),\n",
    "\n",
    "        # ML framework used\n",
    "        \"framework\": \"tensorflow.keras\",\n",
    "\n",
    "        # Number of training samples used\n",
    "        \"train_samples\": int(len(y_train)),\n",
    "\n",
    "        # Number of test samples  used\n",
    "        \"test_samples\": int(len(y_test)),\n",
    "\n",
    "        # Your test accuracy \n",
    "        \"test_accuracy\": float(acc),  \n",
    "\n",
    "        # What the model is intended to be used for\n",
    "        \"intended_use\": \"Classify book review sentiment (binary).\",\n",
    "\n",
    "        # Cases the model is NOT designed to handle\n",
    "        \"out_of_scope\": [\"non-English text without retraining\", \"sarcasm/irony\"],\n",
    "\n",
    "        # Known weaknesses \n",
    "        \"known_limitations\": [\n",
    "            \"Class imbalance (more positive than negative)\",\n",
    "            \"Threshold 0.5 may not be optimal\",\n",
    "            \"Performance depends on text length/vocabulary\"\n",
    "        ],\n",
    "\n",
    "        #  steps  to reduce risk\n",
    "        \"risk_mitigation\": [\n",
    "            \"Use class_weight or resampling\",\n",
    "            \"Keep validation split + early stopping\",\n",
    "            \"Retrain if data distribution shifts\"\n",
    "        ],\n",
    "\n",
    "        # Pointers to the saved \n",
    "        \"artifacts\": {\n",
    "            \"model\": \"bilstm.keras\",\n",
    "            \"tokenizer\": \"tokenizer.json\",\n",
    "            \"maxlen\": \"maxlen.txt\"\n",
    "        }\n",
    "    }, f, indent=2)\n",
    "\n",
    "# Confirm where the model card was written\n",
    "print(\"Wrote:\", os.path.join(SAVE_DIR, \"model_card.json\"))\n"
   ]
  },
  {
   "cell_type": "markdown",
   "id": "d49acf12-6bf8-404b-8c13-5a547a07bbf4",
   "metadata": {},
   "source": [
    "Here we create a small “model card”  that documents the trained model and its context. It records the model name, creation time, software versions, train/test sizes, test accuracy, intended use and out-of-scope cases, known limitations, basic risk-mitigation notes, and the exact artifact files (`bilstm.keras`, `tokenizer.json`, `maxlen.txt`). In practice, it acts like a receipt and safety label for the model so anyone reading the project later can quickly understand what was built, how it performed, and how it should be used. This improves traceability, reproducibility, and governance, and fits well into the final report’s documentation requirements.\n"
   ]
  },
  {
   "cell_type": "code",
   "execution_count": 118,
   "id": "78951312-f195-4cbd-830a-cc66c569d47c",
   "metadata": {},
   "outputs": [],
   "source": [
    "# Load trained from SAVE_DIR \n",
    "# Load the trained Keras model from disk\n",
    "model2 = keras.models.load_model(os.path.join(SAVE_DIR, \"bilstm.keras\"))\n",
    "\n",
    "# Load the fitted tokenizer from JSON (read file as text, then rebuild tokenizer)\n",
    "with open(os.path.join(SAVE_DIR, \"tokenizer.json\"), \"r\", encoding=\"utf-8\") as f:\n",
    "    tok2 = tokenizer_from_json(f.read())\n",
    "\n",
    "# Load the exact sequence length used during training (needed for padding at inference)\n",
    "with open(os.path.join(SAVE_DIR, \"maxlen.txt\"), \"r\", encoding=\"utf-8\") as f:\n",
    "    MAXLEN = int(f.read().strip())\n"
   ]
  },
  {
   "cell_type": "markdown",
   "id": "1ec299ed-46ff-422a-9d91-207770d94f4a",
   "metadata": {},
   "source": [
    "Now we reload everything needed to make consistent predictions after training. First, the trained Bi-LSTM network is loaded from `bilstm.keras` (its architecture and learned weights). Next, the fitted tokenizer is reconstructed from `tokenizer.json`, which restores the exact word-to-index mapping created during training. Finally, the padding length is read from `maxlen.txt`, so input text is padded/truncated to the same size as before. With the model, tokenizer, and maxlen back in memory, inference will behave exactly like it did at training time, reproducible and consistent.\n"
   ]
  },
  {
   "cell_type": "code",
   "execution_count": 130,
   "id": "b63c935d-f88d-42c2-be63-321d005f10bb",
   "metadata": {},
   "outputs": [],
   "source": [
    "# single-text predictor\n",
    "\n",
    "def predict_text(txt: str):\n",
    "    # Guard against empty/whitespace input\n",
    "    if not isinstance(txt, str) or not txt.strip():\n",
    "        return {\"error\": \"empty_text\", \"label\": None, \"confidence\": 0.0}\n",
    "\n",
    "    # Convert text -> integer sequence using the same tokenizer as training\n",
    "    seq = tok2.texts_to_sequences([txt])\n",
    "\n",
    "    # Pad/truncate to the exact MAXLEN used during training\n",
    "    x = pad_sequences(seq, maxlen=MAXLEN, padding=\"post\", truncating=\"post\")\n",
    "\n",
    "    # Get probability from the model (value in [0, 1])\n",
    "    p = float(model2.predict(x, verbose=0)[0][0])\n",
    "\n",
    "    # Map probability to label + confidence\n",
    "    label = \"positive\" if p >= 0.5 else \"negative\"\n",
    "    conf  = round(p if p >= 0.5 else 1 - p, 3)\n",
    "\n",
    "    return {\"label\": label, \"confidence\": conf}\n"
   ]
  },
  {
   "cell_type": "markdown",
   "id": "6f45bc6a-ca49-4ed4-80eb-a9fda4b13dd6",
   "metadata": {},
   "source": [
    "This function is a predictor for a single piece of text. It first checks for empty or whitespace and returns a clear error in that case. \n",
    "\n",
    "For valid text, it uses the same tokenizer from training to turn the words into integer indices, then pads or trims the sequence to the saved `MAXLEN` so the input shape matches what the model expects. \n",
    "The loaded model produces a probability between 0 and 1; values ≥ 0.5 are treated as “positive,” otherwise “negative.” The result is returned as a small dictionary with the predicted label and a confidence score (how strongly the model leans toward that label).\n"
   ]
  },
  {
   "cell_type": "code",
   "execution_count": 128,
   "id": "198acf04-5600-454f-a488-c206465c8693",
   "metadata": {},
   "outputs": [
    {
     "name": "stdout",
     "output_type": "stream",
     "text": [
      "{'label': 'positive', 'confidence': 0.939}\n",
      "{'label': 'negative', 'confidence': 0.905}\n",
      "{'error': 'empty_text', 'label': None, 'confidence': 0.0}\n"
     ]
    }
   ],
   "source": [
    "print(predict_text(\"Great book with an amazing plot!\"))         # expect positive\n",
    "print(predict_text(\"Terrible writing and boring characters.\"))  # expect negative\n",
    "print(predict_text(\"   \"))                                      # expect {'error': 'empty_text'}\n"
   ]
  },
  {
   "cell_type": "markdown",
   "id": "adec5849-ebd0-482c-95db-474334af2bf0",
   "metadata": {},
   "source": [
    "The outputs confirm the end-to-end inference pipeline is wired correctly:\n",
    "\n",
    "A clearly positive sentence is classified positive with high confidence (0.939).\n",
    "\n",
    "A clearly negative sentence is classified negative with high confidence (0.905).\n",
    "\n",
    "Whitespace input returns the designed empty_text error with label=None and confidence=0.0.\n",
    "\n",
    "These checks verify that the saved artifacts (bilstm.keras, tokenizer.json, maxlen.txt) load properly and that predict_text produces stable, sensible results."
   ]
  },
  {
   "cell_type": "code",
   "execution_count": null,
   "id": "295a2f85-7809-48ab-9099-32ccb71ee402",
   "metadata": {},
   "outputs": [],
   "source": []
  }
 ],
 "metadata": {
  "kernelspec": {
   "display_name": "Python [conda env:nlp_env]",
   "language": "python",
   "name": "conda-env-nlp_env-py"
  },
  "language_info": {
   "codemirror_mode": {
    "name": "ipython",
    "version": 3
   },
   "file_extension": ".py",
   "mimetype": "text/x-python",
   "name": "python",
   "nbconvert_exporter": "python",
   "pygments_lexer": "ipython3",
   "version": "3.10.13"
  }
 },
 "nbformat": 4,
 "nbformat_minor": 5
}
